{
 "cells": [
  {
   "cell_type": "markdown",
   "metadata": {},
   "source": [
    "# PROJECT\n",
    "## Applications of Big Data"
   ]
  },
  {
   "cell_type": "markdown",
   "metadata": {},
   "source": [
    "### 0. Importing libraries"
   ]
  },
  {
   "cell_type": "code",
   "execution_count": 1,
   "metadata": {},
   "outputs": [],
   "source": [
    "import pandas as pd\n",
    "import numpy as np\n",
    "import matplotlib.pyplot as plt\n",
    "import seaborn as sns\n",
    "\n",
    "from sklearn.metrics import accuracy_score\n",
    "from sklearn.metrics import precision_score\n",
    "from sklearn.metrics import recall_score\n",
    "from sklearn.metrics import f1_score\n",
    "from sklearn.model_selection import train_test_split\n",
    "from sklearn.preprocessing import OneHotEncoder\n",
    "\n",
    "from sklearn.tree import DecisionTreeClassifier\n",
    "from sklearn.naive_bayes import MultinomialNB\n",
    "from sklearn.svm import SVC\n",
    "from sklearn.linear_model import LogisticRegression\n",
    "from sklearn.ensemble import RandomForestClassifier\n",
    "from sklearn.ensemble import GradientBoostingClassifier"
   ]
  },
  {
   "cell_type": "markdown",
   "metadata": {},
   "source": [
    "### 3. Data Modeling"
   ]
  },
  {
   "cell_type": "markdown",
   "metadata": {},
   "source": [
    "#### 3.1. Dự đoán xu hướng tuyển dụng"
   ]
  },
  {
   "cell_type": "code",
   "execution_count": 2,
   "metadata": {},
   "outputs": [
    {
     "data": {
      "text/html": [
       "<div>\n",
       "<style scoped>\n",
       "    .dataframe tbody tr th:only-of-type {\n",
       "        vertical-align: middle;\n",
       "    }\n",
       "\n",
       "    .dataframe tbody tr th {\n",
       "        vertical-align: top;\n",
       "    }\n",
       "\n",
       "    .dataframe thead th {\n",
       "        text-align: right;\n",
       "    }\n",
       "</style>\n",
       "<table border=\"1\" class=\"dataframe\">\n",
       "  <thead>\n",
       "    <tr style=\"text-align: right;\">\n",
       "      <th></th>\n",
       "      <th>Job Id</th>\n",
       "      <th>Qualifications</th>\n",
       "      <th>location</th>\n",
       "      <th>Country</th>\n",
       "      <th>Work Type</th>\n",
       "      <th>Company Size</th>\n",
       "      <th>Job Posting Date</th>\n",
       "      <th>Preference</th>\n",
       "      <th>Job Title</th>\n",
       "      <th>Role</th>\n",
       "      <th>...</th>\n",
       "      <th>Job Description</th>\n",
       "      <th>Benefits</th>\n",
       "      <th>skills</th>\n",
       "      <th>Responsibilities</th>\n",
       "      <th>Company</th>\n",
       "      <th>Salary_avg</th>\n",
       "      <th>Experience_avg</th>\n",
       "      <th>Day</th>\n",
       "      <th>Month</th>\n",
       "      <th>Year</th>\n",
       "    </tr>\n",
       "  </thead>\n",
       "  <tbody>\n",
       "    <tr>\n",
       "      <th>0</th>\n",
       "      <td>1089843540111562</td>\n",
       "      <td>M.Tech</td>\n",
       "      <td>Douglas</td>\n",
       "      <td>Isle of Man</td>\n",
       "      <td>Intern</td>\n",
       "      <td>26801</td>\n",
       "      <td>2022-04-24</td>\n",
       "      <td>Female</td>\n",
       "      <td>Digital Marketing Specialist</td>\n",
       "      <td>Social Media Manager</td>\n",
       "      <td>...</td>\n",
       "      <td>Social Media Managers oversee an organizations...</td>\n",
       "      <td>{'Flexible Spending Accounts (FSAs), Relocatio...</td>\n",
       "      <td>Social media platforms (e.g., Facebook, Twitte...</td>\n",
       "      <td>Manage and grow social media accounts, create ...</td>\n",
       "      <td>Icahn Enterprises</td>\n",
       "      <td>79.0</td>\n",
       "      <td>10.0</td>\n",
       "      <td>24</td>\n",
       "      <td>4</td>\n",
       "      <td>2022</td>\n",
       "    </tr>\n",
       "    <tr>\n",
       "      <th>1</th>\n",
       "      <td>398454096642776</td>\n",
       "      <td>BCA</td>\n",
       "      <td>Ashgabat</td>\n",
       "      <td>Turkmenistan</td>\n",
       "      <td>Intern</td>\n",
       "      <td>100340</td>\n",
       "      <td>2022-12-19</td>\n",
       "      <td>Female</td>\n",
       "      <td>Web Developer</td>\n",
       "      <td>Frontend Web Developer</td>\n",
       "      <td>...</td>\n",
       "      <td>Frontend Web Developers design and implement u...</td>\n",
       "      <td>{'Health Insurance, Retirement Plans, Paid Tim...</td>\n",
       "      <td>HTML, CSS, JavaScript Frontend frameworks (e.g...</td>\n",
       "      <td>Design and code user interfaces for websites, ...</td>\n",
       "      <td>PNC Financial Services Group</td>\n",
       "      <td>86.0</td>\n",
       "      <td>7.0</td>\n",
       "      <td>19</td>\n",
       "      <td>12</td>\n",
       "      <td>2022</td>\n",
       "    </tr>\n",
       "    <tr>\n",
       "      <th>2</th>\n",
       "      <td>481640072963533</td>\n",
       "      <td>PhD</td>\n",
       "      <td>Macao</td>\n",
       "      <td>Macao SAR, China</td>\n",
       "      <td>Temporary</td>\n",
       "      <td>84525</td>\n",
       "      <td>2022-09-14</td>\n",
       "      <td>Male</td>\n",
       "      <td>Operations Manager</td>\n",
       "      <td>Quality Control Manager</td>\n",
       "      <td>...</td>\n",
       "      <td>Quality Control Managers establish and enforce...</td>\n",
       "      <td>{'Legal Assistance, Bonuses and Incentive Prog...</td>\n",
       "      <td>Quality control processes and methodologies St...</td>\n",
       "      <td>Establish and enforce quality control standard...</td>\n",
       "      <td>United Services Automobile Assn.</td>\n",
       "      <td>82.5</td>\n",
       "      <td>6.0</td>\n",
       "      <td>14</td>\n",
       "      <td>9</td>\n",
       "      <td>2022</td>\n",
       "    </tr>\n",
       "    <tr>\n",
       "      <th>3</th>\n",
       "      <td>688192671473044</td>\n",
       "      <td>PhD</td>\n",
       "      <td>Porto-Novo</td>\n",
       "      <td>Benin</td>\n",
       "      <td>Full-Time</td>\n",
       "      <td>129896</td>\n",
       "      <td>2023-02-25</td>\n",
       "      <td>Female</td>\n",
       "      <td>Network Engineer</td>\n",
       "      <td>Wireless Network Engineer</td>\n",
       "      <td>...</td>\n",
       "      <td>Wireless Network Engineers design, implement, ...</td>\n",
       "      <td>{'Transportation Benefits, Professional Develo...</td>\n",
       "      <td>Wireless network design and architecture Wi-Fi...</td>\n",
       "      <td>Design, configure, and optimize wireless netwo...</td>\n",
       "      <td>Hess</td>\n",
       "      <td>78.0</td>\n",
       "      <td>7.5</td>\n",
       "      <td>25</td>\n",
       "      <td>2</td>\n",
       "      <td>2023</td>\n",
       "    </tr>\n",
       "    <tr>\n",
       "      <th>4</th>\n",
       "      <td>117057806156508</td>\n",
       "      <td>MBA</td>\n",
       "      <td>Santiago</td>\n",
       "      <td>Chile</td>\n",
       "      <td>Intern</td>\n",
       "      <td>53944</td>\n",
       "      <td>2022-10-11</td>\n",
       "      <td>Female</td>\n",
       "      <td>Event Manager</td>\n",
       "      <td>Conference Manager</td>\n",
       "      <td>...</td>\n",
       "      <td>A Conference Manager coordinates and manages c...</td>\n",
       "      <td>{'Flexible Spending Accounts (FSAs), Relocatio...</td>\n",
       "      <td>Event planning Conference logistics Budget man...</td>\n",
       "      <td>Specialize in conference and convention planni...</td>\n",
       "      <td>Cairn Energy</td>\n",
       "      <td>75.5</td>\n",
       "      <td>6.5</td>\n",
       "      <td>11</td>\n",
       "      <td>10</td>\n",
       "      <td>2022</td>\n",
       "    </tr>\n",
       "  </tbody>\n",
       "</table>\n",
       "<p>5 rows × 21 columns</p>\n",
       "</div>"
      ],
      "text/plain": [
       "             Job Id Qualifications    location           Country  Work Type  \\\n",
       "0  1089843540111562         M.Tech     Douglas       Isle of Man     Intern   \n",
       "1   398454096642776            BCA    Ashgabat      Turkmenistan     Intern   \n",
       "2   481640072963533            PhD       Macao  Macao SAR, China  Temporary   \n",
       "3   688192671473044            PhD  Porto-Novo             Benin  Full-Time   \n",
       "4   117057806156508            MBA    Santiago             Chile     Intern   \n",
       "\n",
       "   Company Size Job Posting Date Preference                     Job Title  \\\n",
       "0         26801       2022-04-24     Female  Digital Marketing Specialist   \n",
       "1        100340       2022-12-19     Female                 Web Developer   \n",
       "2         84525       2022-09-14       Male            Operations Manager   \n",
       "3        129896       2023-02-25     Female              Network Engineer   \n",
       "4         53944       2022-10-11     Female                 Event Manager   \n",
       "\n",
       "                        Role  ...  \\\n",
       "0       Social Media Manager  ...   \n",
       "1     Frontend Web Developer  ...   \n",
       "2    Quality Control Manager  ...   \n",
       "3  Wireless Network Engineer  ...   \n",
       "4         Conference Manager  ...   \n",
       "\n",
       "                                     Job Description  \\\n",
       "0  Social Media Managers oversee an organizations...   \n",
       "1  Frontend Web Developers design and implement u...   \n",
       "2  Quality Control Managers establish and enforce...   \n",
       "3  Wireless Network Engineers design, implement, ...   \n",
       "4  A Conference Manager coordinates and manages c...   \n",
       "\n",
       "                                            Benefits  \\\n",
       "0  {'Flexible Spending Accounts (FSAs), Relocatio...   \n",
       "1  {'Health Insurance, Retirement Plans, Paid Tim...   \n",
       "2  {'Legal Assistance, Bonuses and Incentive Prog...   \n",
       "3  {'Transportation Benefits, Professional Develo...   \n",
       "4  {'Flexible Spending Accounts (FSAs), Relocatio...   \n",
       "\n",
       "                                              skills  \\\n",
       "0  Social media platforms (e.g., Facebook, Twitte...   \n",
       "1  HTML, CSS, JavaScript Frontend frameworks (e.g...   \n",
       "2  Quality control processes and methodologies St...   \n",
       "3  Wireless network design and architecture Wi-Fi...   \n",
       "4  Event planning Conference logistics Budget man...   \n",
       "\n",
       "                                    Responsibilities  \\\n",
       "0  Manage and grow social media accounts, create ...   \n",
       "1  Design and code user interfaces for websites, ...   \n",
       "2  Establish and enforce quality control standard...   \n",
       "3  Design, configure, and optimize wireless netwo...   \n",
       "4  Specialize in conference and convention planni...   \n",
       "\n",
       "                            Company Salary_avg  Experience_avg  Day  Month  \\\n",
       "0                 Icahn Enterprises       79.0            10.0   24      4   \n",
       "1      PNC Financial Services Group       86.0             7.0   19     12   \n",
       "2  United Services Automobile Assn.       82.5             6.0   14      9   \n",
       "3                              Hess       78.0             7.5   25      2   \n",
       "4                      Cairn Energy       75.5             6.5   11     10   \n",
       "\n",
       "   Year  \n",
       "0  2022  \n",
       "1  2022  \n",
       "2  2022  \n",
       "3  2023  \n",
       "4  2022  \n",
       "\n",
       "[5 rows x 21 columns]"
      ]
     },
     "execution_count": 2,
     "metadata": {},
     "output_type": "execute_result"
    }
   ],
   "source": [
    "df = pd.read_csv('dataset/data_clean.csv')\n",
    "df.head()"
   ]
  },
  {
   "cell_type": "markdown",
   "metadata": {},
   "source": [
    "##### 3.1.1. Data Preparing"
   ]
  },
  {
   "cell_type": "code",
   "execution_count": 3,
   "metadata": {},
   "outputs": [],
   "source": [
    "df['Job Posting Date'] = pd.to_datetime(df['Job Posting Date'])"
   ]
  },
  {
   "cell_type": "code",
   "execution_count": 4,
   "metadata": {},
   "outputs": [
    {
     "name": "stderr",
     "output_type": "stream",
     "text": [
      "C:\\Users\\HoaTX\\AppData\\Local\\Temp\\ipykernel_2992\\2007897400.py:1: FutureWarning: Treating datetime data as categorical rather than numeric in `.describe` is deprecated and will be removed in a future version of pandas. Specify `datetime_is_numeric=True` to silence this warning and adopt the future behavior now.\n",
      "  df['Job Posting Date'].describe()\n"
     ]
    },
    {
     "data": {
      "text/plain": [
       "count                 1615940\n",
       "unique                    731\n",
       "top       2021-11-14 00:00:00\n",
       "freq                     2378\n",
       "first     2021-09-15 00:00:00\n",
       "last      2023-09-15 00:00:00\n",
       "Name: Job Posting Date, dtype: object"
      ]
     },
     "execution_count": 4,
     "metadata": {},
     "output_type": "execute_result"
    }
   ],
   "source": [
    "df['Job Posting Date'].describe()"
   ]
  },
  {
   "cell_type": "markdown",
   "metadata": {},
   "source": [
    "Thêm cột `Target1` để dự đoán xu hướng trong thị trường tuyển dụng dựa trên dữ liệu.\n",
    "\n",
    "Ngày đăng tuyển dụng cuối cùng được thu thập là `15/09/2023` ta sẽ chọn giá trị cho cột `Target1` là `1` với những công việc tuyển dụng từ ngày `02/08/2023` và ngược lại là `0`. Nghĩa là trong `45` ngày gần nhất đăng tuyển để dự đoán xu hướng tuyển dụng."
   ]
  },
  {
   "cell_type": "code",
   "execution_count": 5,
   "metadata": {},
   "outputs": [],
   "source": [
    "df['Target1'] = df['Job Posting Date'].apply(lambda x: 1 if x >= pd.to_datetime('2023-08-02') else 0)"
   ]
  },
  {
   "cell_type": "code",
   "execution_count": 6,
   "metadata": {},
   "outputs": [],
   "source": [
    "features = ['Work Type', 'Company Size', 'Job Title', 'Experience_avg']\n",
    "df_model = df[features + ['Target1']]"
   ]
  },
  {
   "cell_type": "code",
   "execution_count": 7,
   "metadata": {},
   "outputs": [],
   "source": [
    "df_model = pd.get_dummies(df_model, columns=['Job Title', 'Work Type'], prefix=['Job_Title', 'Work_Type'], drop_first=True)"
   ]
  },
  {
   "cell_type": "code",
   "execution_count": 8,
   "metadata": {},
   "outputs": [],
   "source": [
    "X_train, X_test, y_train, y_test = train_test_split(df_model.drop('Target1', axis=1), df_model['Target1'], test_size=0.2, random_state=42)"
   ]
  },
  {
   "cell_type": "markdown",
   "metadata": {},
   "source": [
    "##### 3.1.2. Naive Bayes"
   ]
  },
  {
   "cell_type": "markdown",
   "metadata": {},
   "source": [
    "Mô hình `MultinomialNB` là một mô hình học máy có giám sát sử dụng cho bài toán phân loại văn bản. Nó dựa trên nguyên tắc của `Naive Bayes` và được sử dụng cho các tập dữ liệu có các đặc trưng rời rạc, chẳng hạn như đếm số lần xuất hiện của các từ trong văn bản. Mô hình xây dựng bộ \"từ vựng\" từ dữ liệu huấn luyện và tính xác suất xuất hiện của các từ trong \"từ vựng\" trong các lớp khác nhau. Sau đó, sử dụng các xác suất này để huấn luyện mô hình và phân loại các văn bản mới bằng cách dự đoán lớp có xác suất cao nhất cho mỗi văn bản. "
   ]
  },
  {
   "cell_type": "code",
   "execution_count": 9,
   "metadata": {},
   "outputs": [
    {
     "name": "stderr",
     "output_type": "stream",
     "text": [
      "e:\\Conda\\Anaconda\\lib\\site-packages\\sklearn\\metrics\\_classification.py:1344: UndefinedMetricWarning: Precision is ill-defined and being set to 0.0 due to no predicted samples. Use `zero_division` parameter to control this behavior.\n",
      "  _warn_prf(average, modifier, msg_start, len(result))\n"
     ]
    },
    {
     "name": "stdout",
     "output_type": "stream",
     "text": [
      "accuracy_score:  0.9381103258784361\n",
      "precision_score:  0.0\n",
      "recall_score:  0.0\n",
      "f1_score:  0.0\n"
     ]
    }
   ],
   "source": [
    "model1 = MultinomialNB()\n",
    "model1.fit(X_train, y_train)\n",
    "y_pred1 = model1.predict(X_test)\n",
    "\n",
    "acc_1 = accuracy_score(y_test, y_pred1)\n",
    "prec_1 = precision_score(y_test, y_pred1)\n",
    "rec_1 = recall_score(y_test, y_pred1)\n",
    "f1_1 = f1_score(y_test, y_pred1)\n",
    "\n",
    "print('accuracy_score: ', acc_1)\n",
    "print('precision_score: ', prec_1)\n",
    "print('recall_score: ', rec_1)\n",
    "print('f1_score: ', f1_1)"
   ]
  },
  {
   "cell_type": "markdown",
   "metadata": {},
   "source": [
    "##### 3.1.3. Decision Tree Classifier"
   ]
  },
  {
   "cell_type": "markdown",
   "metadata": {},
   "source": [
    "`Decision Tree Classifier` là một thuật toán học máy được sử dụng trong phân loại. Nó hoạt động bằng cách xây dựng một cây quyết định, tại mỗi nút của cây, thuật toán chọn thuộc tính tốt nhất để phân chia dữ liệu thành các tập con dựa trên câu hỏi. Quá trình này lặp lại cho đến khi đáp ứng điều kiện dừng. Khi cây đã xây dựng, nó có thể dự đoán lớp của dữ liệu mới bằng cách đi từ gốc cây đến nút lá tương ứng. "
   ]
  },
  {
   "cell_type": "code",
   "execution_count": null,
   "metadata": {},
   "outputs": [
    {
     "name": "stdout",
     "output_type": "stream",
     "text": [
      "accuracy_score:  0.8802678317264255\n",
      "precision_score:  0.06228341294371078\n",
      "recall_score:  0.0664933506649335\n",
      "f1_score:  0.06431956668923494\n"
     ]
    }
   ],
   "source": [
    "model2 = DecisionTreeClassifier()\n",
    "model2.fit(X_train, y_train)\n",
    "y_pred2 = model2.predict(X_test)\n",
    "\n",
    "acc_2 = accuracy_score(y_test, y_pred2)\n",
    "prec_2 = precision_score(y_test, y_pred2)\n",
    "rec_2 = recall_score(y_test, y_pred2)\n",
    "f1_2 = f1_score(y_test, y_pred2)\n",
    "\n",
    "print('accuracy_score: ', acc_2)\n",
    "print('precision_score: ', prec_2)\n",
    "print('recall_score: ', rec_2)\n",
    "print('f1_score: ', f1_2)"
   ]
  },
  {
   "cell_type": "markdown",
   "metadata": {},
   "source": [
    "##### 3.1.4. Random Forest Classifier\n"
   ]
  },
  {
   "cell_type": "markdown",
   "metadata": {},
   "source": [
    "Mô hình `RandomForestClassifier` là một mô hình học máy sử dụng trong bài toán phân loại. Nó dựa trên học kết hợp và sử dụng nhiều cây quyết định để thực hiện phân loại. Quá trình hoạt động bao gồm xây dựng nhiều cây quyết định độc lập, sau đó kết hợp kết quả dự đoán của chúng để đưa ra kết quả phân loại cuối cùng. `RandomForestClassifier` giúp tránh `overfitting` và tổng quát hóa tốt hơn do sử dụng nhiều cây và kết hợp kết quả của chúng. Các tham số quan trọng cần được điều chỉnh để cải thiện hiệu suất của mô hình. Mô hình này thường được sử dụng trong các bài toán phân loại phức tạp và đa dạng hoặc khi cần cải thiện tính tổng quát của mô hình."
   ]
  },
  {
   "cell_type": "code",
   "execution_count": null,
   "metadata": {},
   "outputs": [
    {
     "name": "stderr",
     "output_type": "stream",
     "text": [
      "e:\\Conda\\Anaconda\\lib\\site-packages\\sklearn\\metrics\\_classification.py:1344: UndefinedMetricWarning: Precision is ill-defined and being set to 0.0 due to no predicted samples. Use `zero_division` parameter to control this behavior.\n",
      "  _warn_prf(average, modifier, msg_start, len(result))\n"
     ]
    },
    {
     "name": "stdout",
     "output_type": "stream",
     "text": [
      "accuracy_score:  0.9381103258784361\n",
      "precision_score:  0.0\n",
      "recall_score:  0.0\n",
      "f1_score:  0.0\n"
     ]
    }
   ],
   "source": [
    "model3 = RandomForestClassifier(max_depth=10)\n",
    "model3.fit(X_train, y_train)\n",
    "y_pred3 = model3.predict(X_test)\n",
    "\n",
    "acc_3 = accuracy_score(y_test, y_pred3)\n",
    "prec_3 = precision_score(y_test, y_pred3)\n",
    "rec_3 = recall_score(y_test, y_pred3)\n",
    "f1_3 = f1_score(y_test, y_pred3)\n",
    "\n",
    "print('accuracy_score: ', acc_3)\n",
    "print('precision_score: ', prec_3)\n",
    "print('recall_score: ', rec_3)\n",
    "print('f1_score: ', f1_3)"
   ]
  },
  {
   "cell_type": "code",
   "execution_count": null,
   "metadata": {},
   "outputs": [
    {
     "data": {
      "text/plain": [
       "'\\nestimators = range(100,1001,50)\\nbest_acc = 0\\nbest_k = 0\\nscore=[]\\nmodels = []\\n\\nfor i in estimators:\\n    model_ = RandomForestClassifier(n_estimators=i)\\n    model_.fit(X_train, y_train)\\n\\n    acc_score_rfc = acc_score(y_test, model_.predict(X_test))\\n    score.append(acc_score_rfc)\\n    \\n    models.append(model_)\\n\\n    if acc_score_rfc  > best_acc:\\n        best_acc = acc_score_rfc\\n        best_k = i\\n\\nprint(f\"best C: {best_k}, best accuracy: {best_acc}\")\\n'"
      ]
     },
     "metadata": {},
     "output_type": "display_data"
    }
   ],
   "source": [
    "'''\n",
    "estimators = range(100,1001,50)\n",
    "best_acc = 0\n",
    "best_k = 0\n",
    "score=[]\n",
    "models = []\n",
    "\n",
    "for i in estimators:\n",
    "    model_ = RandomForestClassifier(n_estimators=i)\n",
    "    model_.fit(X_train, y_train)\n",
    "\n",
    "    acc_score_rfc = accuracy_score(y_test, model_.predict(X_test))\n",
    "    score.append(acc_score_rfc)\n",
    "    \n",
    "    models.append(model_)\n",
    "\n",
    "    if acc_score_rfc  > best_acc:\n",
    "        best_acc = acc_score_rfc\n",
    "        best_k = i\n",
    "\n",
    "print(f\"best C: {best_k}, best accuracy: {best_acc}\")\n",
    "'''"
   ]
  },
  {
   "cell_type": "code",
   "execution_count": null,
   "metadata": {},
   "outputs": [],
   "source": [
    "#print(f\"best C: {best_k}, best accuracy: {best_acc}\")"
   ]
  },
  {
   "cell_type": "code",
   "execution_count": null,
   "metadata": {},
   "outputs": [],
   "source": [
    "#plt.plot([*estimators],score, marker='o')\n",
    "#plt.title('Precision Score')"
   ]
  },
  {
   "cell_type": "markdown",
   "metadata": {},
   "source": [
    "##### 3.1.5. Logistic Regression   "
   ]
  },
  {
   "cell_type": "markdown",
   "metadata": {},
   "source": [
    "Mô hình `LogisticRegression` là một mô hình học máy sử dụng cho bài toán phân loại hai lớp (binary classification). Nó tính toán xác suất của điểm dữ liệu thuộc vào lớp positive sử dụng hàm sigmoid. Trong quá trình huấn luyện, mô hình điều chỉnh các trọng số của đặc trưng để tối ưu hóa việc dự đoán xác suất cho các điểm dữ liệu huấn luyện bằng cách tối thiểu hóa hàm mất mát (loss function), như hàm `cross-entropy`. Sau đó, mô hình có thể dự đoán lớp của các điểm dữ liệu mới dựa trên xác suất và ngưỡng quyết định. Mô hình `LogisticRegression` là một lựa chọn phổ biến và hiệu quả cho các bài toán phân loại hai lớp."
   ]
  },
  {
   "cell_type": "code",
   "execution_count": null,
   "metadata": {},
   "outputs": [
    {
     "name": "stderr",
     "output_type": "stream",
     "text": [
      "e:\\Conda\\Anaconda\\lib\\site-packages\\sklearn\\metrics\\_classification.py:1344: UndefinedMetricWarning: Precision is ill-defined and being set to 0.0 due to no predicted samples. Use `zero_division` parameter to control this behavior.\n",
      "  _warn_prf(average, modifier, msg_start, len(result))\n"
     ]
    },
    {
     "name": "stdout",
     "output_type": "stream",
     "text": [
      "accuracy_score:  0.9381103258784361\n",
      "precision_score:  0.0\n",
      "recall_score:  0.0\n",
      "f1_score:  0.0\n"
     ]
    }
   ],
   "source": [
    "model4 = LogisticRegression()\n",
    "model4.fit(X_train, y_train)\n",
    "y_pred4 = model4.predict(X_test)\n",
    "\n",
    "acc_4 = accuracy_score(y_test, y_pred4)\n",
    "prec_4 = precision_score(y_test, y_pred4)\n",
    "rec_4 = recall_score(y_test, y_pred4)\n",
    "f1_4 = f1_score(y_test, y_pred4)\n",
    "\n",
    "print('accuracy_score: ', acc_4)\n",
    "print('precision_score: ', prec_4)\n",
    "print('recall_score: ', rec_4)\n",
    "print('f1_score: ', f1_4)"
   ]
  },
  {
   "cell_type": "markdown",
   "metadata": {},
   "source": [
    "##### 3.1.6. Gradient Boosting Classifier"
   ]
  },
  {
   "cell_type": "markdown",
   "metadata": {},
   "source": [
    "`Gradient Boosting` là một phương pháp học máy, tập trung vào xây dựng một chuỗi các mô hình dự đoán liên tiếp để cải thiện sai số. Quá trình hoạt động bao gồm xây dựng một mô hình ban đầu, tính sai số, tạo mô hình mới để dự đoán sai số, cộng hưởng dự đoán và lặp lại quá trình cho đến khi đạt được sai số mong muốn hoặc số lượng mô hình cần thiết. `Gradient Boosting` tối ưu hóa hàm mất mát thông qua `Gradient Descent` để điều chỉnh tham số của các mô hình. Các thư viện phổ biến để thực hiện `Gradient Boosting` bao gồm XGBoost, LightGBM và `scikit-learn`."
   ]
  },
  {
   "cell_type": "code",
   "execution_count": null,
   "metadata": {},
   "outputs": [
    {
     "name": "stdout",
     "output_type": "stream",
     "text": [
      "accuracy_score:  0.9381010433555701\n",
      "precision_score:  0.0\n",
      "recall_score:  0.0\n",
      "f1_score:  0.0\n"
     ]
    }
   ],
   "source": [
    "model5 = GradientBoostingClassifier()\n",
    "model5.fit(X_train, y_train)\n",
    "y_pred5 = model5.predict(X_test)\n",
    "\n",
    "acc_5 = accuracy_score(y_test, y_pred5)\n",
    "prec_5 = precision_score(y_test, y_pred5)\n",
    "rec_5 = recall_score(y_test, y_pred5)\n",
    "f1_5 = f1_score(y_test, y_pred5)\n",
    "\n",
    "print('accuracy_score: ', acc_5)\n",
    "print('precision_score: ', prec_5)\n",
    "print('recall_score: ', rec_5)\n",
    "print('f1_score: ', f1_5)"
   ]
  },
  {
   "cell_type": "markdown",
   "metadata": {},
   "source": [
    "##### 3.1.7. Support Vector Machine"
   ]
  },
  {
   "cell_type": "markdown",
   "metadata": {},
   "source": [
    "Mô hình `SVC` là một mô hình học máy được sử dụng trong bài toán phân loại. Nó dựa trên ý tưởng của máy vector hỗ trợ (Support Vector Machines - SVM) và tìm một đường ranh giới trong không gian đặc trưng để phân tách các lớp dữ liệu. `SVC` sử dụng các điểm dữ liệu gần nhất với đường ranh giới (hyperplane) để tối đa hóa khoảng cách giữa các lớp. Tham số `C` (mức độ chấp nhận lỗi) điều chỉnh mức độ \"mềm\" của đường ranh giới. Nó được sử dụng phổ biến trong các bài toán phân loại phức tạp, nhất là khi dữ liệu không phân tách tuyến tính. Tuy nhiên, việc huấn luyện `SVC` có thể tốn nhiều thời gian đối với các tập dữ liệu lớn."
   ]
  },
  {
   "cell_type": "code",
   "execution_count": null,
   "metadata": {},
   "outputs": [],
   "source": [
    "'''\n",
    "C = [0.01,0.1, 0.5, 1, 1.5, 2, 5, 10]\n",
    "#k = ['linear', 'poly', 'rbf', 'sigmoid']\n",
    "best_score = 0\n",
    "best_C = ''\n",
    "score_1 = []\n",
    "#best_k = ''\n",
    "#score_2 = []\n",
    "for i in C:\n",
    "    model6 = SVC(C=i)\n",
    "    model6.fit(X_train, y_train)\n",
    "\n",
    "    accuracy_score_svc = accuracy_score(y_test, model6.predict(X_test))\n",
    "    score_1.append(accuracy_score_svc)\n",
    "    #score_2.append(accuracy_score_svc)\n",
    "\n",
    "    if accuracy_score_svc  > best_score:\n",
    "        best_score = accuracy_score_svc \n",
    "        best_C = i\n",
    "        #best_k = i\n",
    "\n",
    "    print(f\"C: {i}, accurary: {accuracy_score_svc }\")\n",
    "    #print(f\"k: {i}, accurary: {accuracy_score_svc }\")\n",
    "\n",
    "print(f\"best C: {best_C}, best accurary: {best_score}\")\n",
    "#print(f\"best k: {best_k}, best accurary: {best_score}\")\n",
    "'''"
   ]
  },
  {
   "cell_type": "code",
   "execution_count": null,
   "metadata": {},
   "outputs": [],
   "source": [
    "#plt.plot(C,score_1);"
   ]
  },
  {
   "cell_type": "code",
   "execution_count": null,
   "metadata": {},
   "outputs": [],
   "source": [
    "model6 = SVC(C=1)\n",
    "model6.fit(X_train, y_train)\n",
    "y_pred = model6.predict(X_test)\n",
    "\n",
    "acc_6 = accuracy_score(y_test, y_pred)\n",
    "pre_6 = precision_score(y_test, y_pred)\n",
    "rec_6 = recall_score(y_test, y_pred)\n",
    "f1_6 = f1_score(y_test, y_pred)\n",
    "\n",
    "print(\"Accuracy: \", acc_6)\n",
    "print(\"Precision: \", pre_6)\n",
    "print(\"Recall: \", rec_6)\n",
    "print(\"F1: \", f1_6)"
   ]
  }
 ],
 "metadata": {
  "kernelspec": {
   "display_name": "Python 3",
   "language": "python",
   "name": "python3"
  },
  "language_info": {
   "codemirror_mode": {
    "name": "ipython",
    "version": 3
   },
   "file_extension": ".py",
   "mimetype": "text/x-python",
   "name": "python",
   "nbconvert_exporter": "python",
   "pygments_lexer": "ipython3",
   "version": "3.10.9"
  }
 },
 "nbformat": 4,
 "nbformat_minor": 2
}
