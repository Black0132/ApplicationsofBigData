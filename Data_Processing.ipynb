{
 "cells": [
  {
   "cell_type": "markdown",
   "metadata": {},
   "source": [
    "# PROJECT\n",
    "## Applications of Big Data"
   ]
  },
  {
   "cell_type": "markdown",
   "metadata": {},
   "source": [
    "### 0. Importing libraries"
   ]
  },
  {
   "cell_type": "code",
   "execution_count": 1,
   "metadata": {},
   "outputs": [],
   "source": [
    "import pandas as pd\n",
    "import numpy as np\n",
    "import matplotlib.pyplot as plt\n",
    "import seaborn as sns"
   ]
  },
  {
   "cell_type": "markdown",
   "metadata": {},
   "source": [
    "### 1. Data processing"
   ]
  },
  {
   "cell_type": "markdown",
   "metadata": {},
   "source": [
    "#### 1.0. Data loading"
   ]
  },
  {
   "cell_type": "code",
   "execution_count": 2,
   "metadata": {},
   "outputs": [
    {
     "data": {
      "text/plain": [
       "(1615940, 23)"
      ]
     },
     "execution_count": 2,
     "metadata": {},
     "output_type": "execute_result"
    }
   ],
   "source": [
    "df = pd.read_csv('dataset/job_descriptions.csv')\n",
    "df.shape"
   ]
  },
  {
   "cell_type": "code",
   "execution_count": 3,
   "metadata": {},
   "outputs": [
    {
     "data": {
      "text/plain": [
       "Index(['Job Id', 'Experience', 'Qualifications', 'Salary Range', 'location',\n",
       "       'Country', 'latitude', 'longitude', 'Work Type', 'Company Size',\n",
       "       'Job Posting Date', 'Preference', 'Contact Person', 'Contact',\n",
       "       'Job Title', 'Role', 'Job Portal', 'Job Description', 'Benefits',\n",
       "       'skills', 'Responsibilities', 'Company', 'Company Profile'],\n",
       "      dtype='object')"
      ]
     },
     "execution_count": 3,
     "metadata": {},
     "output_type": "execute_result"
    }
   ],
   "source": [
    "df.columns"
   ]
  },
  {
   "cell_type": "code",
   "execution_count": 4,
   "metadata": {},
   "outputs": [
    {
     "data": {
      "text/html": [
       "<div>\n",
       "<style scoped>\n",
       "    .dataframe tbody tr th:only-of-type {\n",
       "        vertical-align: middle;\n",
       "    }\n",
       "\n",
       "    .dataframe tbody tr th {\n",
       "        vertical-align: top;\n",
       "    }\n",
       "\n",
       "    .dataframe thead th {\n",
       "        text-align: right;\n",
       "    }\n",
       "</style>\n",
       "<table border=\"1\" class=\"dataframe\">\n",
       "  <thead>\n",
       "    <tr style=\"text-align: right;\">\n",
       "      <th></th>\n",
       "      <th>Job Id</th>\n",
       "      <th>Experience</th>\n",
       "      <th>Qualifications</th>\n",
       "      <th>Salary Range</th>\n",
       "      <th>location</th>\n",
       "      <th>Country</th>\n",
       "      <th>latitude</th>\n",
       "      <th>longitude</th>\n",
       "      <th>Work Type</th>\n",
       "      <th>Company Size</th>\n",
       "      <th>...</th>\n",
       "      <th>Contact</th>\n",
       "      <th>Job Title</th>\n",
       "      <th>Role</th>\n",
       "      <th>Job Portal</th>\n",
       "      <th>Job Description</th>\n",
       "      <th>Benefits</th>\n",
       "      <th>skills</th>\n",
       "      <th>Responsibilities</th>\n",
       "      <th>Company</th>\n",
       "      <th>Company Profile</th>\n",
       "    </tr>\n",
       "  </thead>\n",
       "  <tbody>\n",
       "    <tr>\n",
       "      <th>0</th>\n",
       "      <td>1089843540111562</td>\n",
       "      <td>5 to 15 Years</td>\n",
       "      <td>M.Tech</td>\n",
       "      <td>$59K-$99K</td>\n",
       "      <td>Douglas</td>\n",
       "      <td>Isle of Man</td>\n",
       "      <td>54.2361</td>\n",
       "      <td>-4.5481</td>\n",
       "      <td>Intern</td>\n",
       "      <td>26801</td>\n",
       "      <td>...</td>\n",
       "      <td>001-381-930-7517x737</td>\n",
       "      <td>Digital Marketing Specialist</td>\n",
       "      <td>Social Media Manager</td>\n",
       "      <td>Snagajob</td>\n",
       "      <td>Social Media Managers oversee an organizations...</td>\n",
       "      <td>{'Flexible Spending Accounts (FSAs), Relocatio...</td>\n",
       "      <td>Social media platforms (e.g., Facebook, Twitte...</td>\n",
       "      <td>Manage and grow social media accounts, create ...</td>\n",
       "      <td>Icahn Enterprises</td>\n",
       "      <td>{\"Sector\":\"Diversified\",\"Industry\":\"Diversifie...</td>\n",
       "    </tr>\n",
       "    <tr>\n",
       "      <th>1</th>\n",
       "      <td>398454096642776</td>\n",
       "      <td>2 to 12 Years</td>\n",
       "      <td>BCA</td>\n",
       "      <td>$56K-$116K</td>\n",
       "      <td>Ashgabat</td>\n",
       "      <td>Turkmenistan</td>\n",
       "      <td>38.9697</td>\n",
       "      <td>59.5563</td>\n",
       "      <td>Intern</td>\n",
       "      <td>100340</td>\n",
       "      <td>...</td>\n",
       "      <td>461-509-4216</td>\n",
       "      <td>Web Developer</td>\n",
       "      <td>Frontend Web Developer</td>\n",
       "      <td>Idealist</td>\n",
       "      <td>Frontend Web Developers design and implement u...</td>\n",
       "      <td>{'Health Insurance, Retirement Plans, Paid Tim...</td>\n",
       "      <td>HTML, CSS, JavaScript Frontend frameworks (e.g...</td>\n",
       "      <td>Design and code user interfaces for websites, ...</td>\n",
       "      <td>PNC Financial Services Group</td>\n",
       "      <td>{\"Sector\":\"Financial Services\",\"Industry\":\"Com...</td>\n",
       "    </tr>\n",
       "    <tr>\n",
       "      <th>2</th>\n",
       "      <td>481640072963533</td>\n",
       "      <td>0 to 12 Years</td>\n",
       "      <td>PhD</td>\n",
       "      <td>$61K-$104K</td>\n",
       "      <td>Macao</td>\n",
       "      <td>Macao SAR, China</td>\n",
       "      <td>22.1987</td>\n",
       "      <td>113.5439</td>\n",
       "      <td>Temporary</td>\n",
       "      <td>84525</td>\n",
       "      <td>...</td>\n",
       "      <td>9687619505</td>\n",
       "      <td>Operations Manager</td>\n",
       "      <td>Quality Control Manager</td>\n",
       "      <td>Jobs2Careers</td>\n",
       "      <td>Quality Control Managers establish and enforce...</td>\n",
       "      <td>{'Legal Assistance, Bonuses and Incentive Prog...</td>\n",
       "      <td>Quality control processes and methodologies St...</td>\n",
       "      <td>Establish and enforce quality control standard...</td>\n",
       "      <td>United Services Automobile Assn.</td>\n",
       "      <td>{\"Sector\":\"Insurance\",\"Industry\":\"Insurance: P...</td>\n",
       "    </tr>\n",
       "    <tr>\n",
       "      <th>3</th>\n",
       "      <td>688192671473044</td>\n",
       "      <td>4 to 11 Years</td>\n",
       "      <td>PhD</td>\n",
       "      <td>$65K-$91K</td>\n",
       "      <td>Porto-Novo</td>\n",
       "      <td>Benin</td>\n",
       "      <td>9.3077</td>\n",
       "      <td>2.3158</td>\n",
       "      <td>Full-Time</td>\n",
       "      <td>129896</td>\n",
       "      <td>...</td>\n",
       "      <td>+1-820-643-5431x47576</td>\n",
       "      <td>Network Engineer</td>\n",
       "      <td>Wireless Network Engineer</td>\n",
       "      <td>FlexJobs</td>\n",
       "      <td>Wireless Network Engineers design, implement, ...</td>\n",
       "      <td>{'Transportation Benefits, Professional Develo...</td>\n",
       "      <td>Wireless network design and architecture Wi-Fi...</td>\n",
       "      <td>Design, configure, and optimize wireless netwo...</td>\n",
       "      <td>Hess</td>\n",
       "      <td>{\"Sector\":\"Energy\",\"Industry\":\"Mining, Crude-O...</td>\n",
       "    </tr>\n",
       "    <tr>\n",
       "      <th>4</th>\n",
       "      <td>117057806156508</td>\n",
       "      <td>1 to 12 Years</td>\n",
       "      <td>MBA</td>\n",
       "      <td>$64K-$87K</td>\n",
       "      <td>Santiago</td>\n",
       "      <td>Chile</td>\n",
       "      <td>-35.6751</td>\n",
       "      <td>-71.5429</td>\n",
       "      <td>Intern</td>\n",
       "      <td>53944</td>\n",
       "      <td>...</td>\n",
       "      <td>343.975.4702x9340</td>\n",
       "      <td>Event Manager</td>\n",
       "      <td>Conference Manager</td>\n",
       "      <td>Jobs2Careers</td>\n",
       "      <td>A Conference Manager coordinates and manages c...</td>\n",
       "      <td>{'Flexible Spending Accounts (FSAs), Relocatio...</td>\n",
       "      <td>Event planning Conference logistics Budget man...</td>\n",
       "      <td>Specialize in conference and convention planni...</td>\n",
       "      <td>Cairn Energy</td>\n",
       "      <td>{\"Sector\":\"Energy\",\"Industry\":\"Energy - Oil &amp; ...</td>\n",
       "    </tr>\n",
       "  </tbody>\n",
       "</table>\n",
       "<p>5 rows × 23 columns</p>\n",
       "</div>"
      ],
      "text/plain": [
       "             Job Id     Experience Qualifications Salary Range    location  \\\n",
       "0  1089843540111562  5 to 15 Years         M.Tech    $59K-$99K     Douglas   \n",
       "1   398454096642776  2 to 12 Years            BCA   $56K-$116K    Ashgabat   \n",
       "2   481640072963533  0 to 12 Years            PhD   $61K-$104K       Macao   \n",
       "3   688192671473044  4 to 11 Years            PhD    $65K-$91K  Porto-Novo   \n",
       "4   117057806156508  1 to 12 Years            MBA    $64K-$87K    Santiago   \n",
       "\n",
       "            Country  latitude  longitude  Work Type  Company Size  ...  \\\n",
       "0       Isle of Man   54.2361    -4.5481     Intern         26801  ...   \n",
       "1      Turkmenistan   38.9697    59.5563     Intern        100340  ...   \n",
       "2  Macao SAR, China   22.1987   113.5439  Temporary         84525  ...   \n",
       "3             Benin    9.3077     2.3158  Full-Time        129896  ...   \n",
       "4             Chile  -35.6751   -71.5429     Intern         53944  ...   \n",
       "\n",
       "                 Contact                     Job Title  \\\n",
       "0   001-381-930-7517x737  Digital Marketing Specialist   \n",
       "1           461-509-4216                 Web Developer   \n",
       "2             9687619505            Operations Manager   \n",
       "3  +1-820-643-5431x47576              Network Engineer   \n",
       "4      343.975.4702x9340                 Event Manager   \n",
       "\n",
       "                        Role    Job Portal  \\\n",
       "0       Social Media Manager      Snagajob   \n",
       "1     Frontend Web Developer      Idealist   \n",
       "2    Quality Control Manager  Jobs2Careers   \n",
       "3  Wireless Network Engineer      FlexJobs   \n",
       "4         Conference Manager  Jobs2Careers   \n",
       "\n",
       "                                     Job Description  \\\n",
       "0  Social Media Managers oversee an organizations...   \n",
       "1  Frontend Web Developers design and implement u...   \n",
       "2  Quality Control Managers establish and enforce...   \n",
       "3  Wireless Network Engineers design, implement, ...   \n",
       "4  A Conference Manager coordinates and manages c...   \n",
       "\n",
       "                                            Benefits  \\\n",
       "0  {'Flexible Spending Accounts (FSAs), Relocatio...   \n",
       "1  {'Health Insurance, Retirement Plans, Paid Tim...   \n",
       "2  {'Legal Assistance, Bonuses and Incentive Prog...   \n",
       "3  {'Transportation Benefits, Professional Develo...   \n",
       "4  {'Flexible Spending Accounts (FSAs), Relocatio...   \n",
       "\n",
       "                                              skills  \\\n",
       "0  Social media platforms (e.g., Facebook, Twitte...   \n",
       "1  HTML, CSS, JavaScript Frontend frameworks (e.g...   \n",
       "2  Quality control processes and methodologies St...   \n",
       "3  Wireless network design and architecture Wi-Fi...   \n",
       "4  Event planning Conference logistics Budget man...   \n",
       "\n",
       "                                    Responsibilities  \\\n",
       "0  Manage and grow social media accounts, create ...   \n",
       "1  Design and code user interfaces for websites, ...   \n",
       "2  Establish and enforce quality control standard...   \n",
       "3  Design, configure, and optimize wireless netwo...   \n",
       "4  Specialize in conference and convention planni...   \n",
       "\n",
       "                            Company  \\\n",
       "0                 Icahn Enterprises   \n",
       "1      PNC Financial Services Group   \n",
       "2  United Services Automobile Assn.   \n",
       "3                              Hess   \n",
       "4                      Cairn Energy   \n",
       "\n",
       "                                     Company Profile  \n",
       "0  {\"Sector\":\"Diversified\",\"Industry\":\"Diversifie...  \n",
       "1  {\"Sector\":\"Financial Services\",\"Industry\":\"Com...  \n",
       "2  {\"Sector\":\"Insurance\",\"Industry\":\"Insurance: P...  \n",
       "3  {\"Sector\":\"Energy\",\"Industry\":\"Mining, Crude-O...  \n",
       "4  {\"Sector\":\"Energy\",\"Industry\":\"Energy - Oil & ...  \n",
       "\n",
       "[5 rows x 23 columns]"
      ]
     },
     "execution_count": 4,
     "metadata": {},
     "output_type": "execute_result"
    }
   ],
   "source": [
    "df.head()"
   ]
  },
  {
   "cell_type": "markdown",
   "metadata": {},
   "source": [
    "**Job Dataset**: là dữ liệu ghi nhận các nhu cầu tuyển dụng của thị trường việc làm, được tạo ra từ thư viện Python Faker. Bộ dữ liệu cung cấp một bộ sưu tập toàn diện các thông tin tuyển dụng tổng hợp để tạo điều kiện thuận lợi trong việc nghiên cứu và phân tích trong lĩnh vực xu hướng thị trường việc làm, học máy. \n",
    "\n",
    "- Mỗi dòng của dữ liệu ghi lại đầy đủ các thông tin của 1 yêu cầu tuyển dụng bao gồm: \n",
    "    - `Job Id`: mã số công việc\n",
    "    - `Job Title`: tên công việc\n",
    "    - `Company`: tên công ty\n",
    "    - `Job Title`: loại công việc\n",
    "    - `Salary Range`: mức lương\n",
    "    - `location`: địa điểm\n",
    "    - `Skills`: Các kỹ năng hoặc yêu cầu cụ thể cho công việc.\n",
    "    - Và những cột khác nó đã được mô tả ở `Data_description.txt`"
   ]
  },
  {
   "cell_type": "markdown",
   "metadata": {},
   "source": [
    "#### 1.1. Data Type"
   ]
  },
  {
   "cell_type": "code",
   "execution_count": 5,
   "metadata": {},
   "outputs": [
    {
     "data": {
      "text/plain": [
       "Job Id                               {<class 'int'>}\n",
       "Experience                           {<class 'str'>}\n",
       "Qualifications                       {<class 'str'>}\n",
       "Salary Range                         {<class 'str'>}\n",
       "location                             {<class 'str'>}\n",
       "Country                              {<class 'str'>}\n",
       "latitude                           {<class 'float'>}\n",
       "longitude                          {<class 'float'>}\n",
       "Work Type                            {<class 'str'>}\n",
       "Company Size                         {<class 'int'>}\n",
       "Job Posting Date                     {<class 'str'>}\n",
       "Preference                           {<class 'str'>}\n",
       "Contact Person                       {<class 'str'>}\n",
       "Contact                              {<class 'str'>}\n",
       "Job Title                            {<class 'str'>}\n",
       "Role                                 {<class 'str'>}\n",
       "Job Portal                           {<class 'str'>}\n",
       "Job Description                      {<class 'str'>}\n",
       "Benefits                             {<class 'str'>}\n",
       "skills                               {<class 'str'>}\n",
       "Responsibilities                     {<class 'str'>}\n",
       "Company                              {<class 'str'>}\n",
       "Company Profile     {<class 'str'>, <class 'float'>}\n",
       "dtype: object"
      ]
     },
     "execution_count": 5,
     "metadata": {},
     "output_type": "execute_result"
    }
   ],
   "source": [
    "def open_object_dtype(s):\n",
    "    dtypes = set(s.apply(lambda item : type(item)))\n",
    "    return dtypes\n",
    "\n",
    "df.apply(open_object_dtype)"
   ]
  },
  {
   "cell_type": "markdown",
   "metadata": {},
   "source": [
    "Quan sát các cột dữ liệu nhóm có nhận xét như sau:\n",
    "\n",
    "- Có các cột dữ liệu cần được chuyển đổi kiểu dữ liệu:\n",
    "    - `Salary Range`: chuyển sang kiểu `float` và lấy giá trị trung bình.\n",
    "    - `Experience`: chuyển sang kiểu `int` và lấy giá trị trung bình.\n",
    "    - `Job Posting Date`: chuyển sang kiểu `datetime` và có thể thêm các cột `Date`, `Month`, `Year` để phân tích.\n"
   ]
  },
  {
   "cell_type": "markdown",
   "metadata": {},
   "source": [
    "#### 1.2. Duplicated"
   ]
  },
  {
   "cell_type": "code",
   "execution_count": 6,
   "metadata": {},
   "outputs": [
    {
     "data": {
      "text/plain": [
       "0"
      ]
     },
     "execution_count": 6,
     "metadata": {},
     "output_type": "execute_result"
    }
   ],
   "source": [
    "df.duplicated().sum()"
   ]
  },
  {
   "cell_type": "markdown",
   "metadata": {},
   "source": [
    "Qua kiểm tra thì dữ liệu này không bị trùng lặp."
   ]
  },
  {
   "cell_type": "markdown",
   "metadata": {},
   "source": [
    "#### 1.3. Missing values"
   ]
  },
  {
   "cell_type": "code",
   "execution_count": 7,
   "metadata": {},
   "outputs": [
    {
     "data": {
      "text/plain": [
       "Job Id                 0\n",
       "Experience             0\n",
       "Qualifications         0\n",
       "Salary Range           0\n",
       "location               0\n",
       "Country                0\n",
       "latitude               0\n",
       "longitude              0\n",
       "Work Type              0\n",
       "Company Size           0\n",
       "Job Posting Date       0\n",
       "Preference             0\n",
       "Contact Person         0\n",
       "Contact                0\n",
       "Job Title              0\n",
       "Role                   0\n",
       "Job Portal             0\n",
       "Job Description        0\n",
       "Benefits               0\n",
       "skills                 0\n",
       "Responsibilities       0\n",
       "Company                0\n",
       "Company Profile     5478\n",
       "dtype: int64"
      ]
     },
     "execution_count": 7,
     "metadata": {},
     "output_type": "execute_result"
    }
   ],
   "source": [
    "df.isnull().sum()"
   ]
  },
  {
   "cell_type": "markdown",
   "metadata": {},
   "source": [
    "Dữ liệu bị thiếu `5478` giá trị ở cột `Company Profile`: \n",
    "- Có thể là do công ty không cung cấp thông tin về hồ sơ đăng ký của công ty.\n",
    "- Có thể là nhập không đúng cách hoặc bị lỗi trong quá trình thu thập dữ liệu.\n",
    "\n",
    "Tạm thời nhóm sẽ chưa xử lý vấn đề này vì nó không ảnh hưởng nhiều đến kết qủa."
   ]
  },
  {
   "cell_type": "markdown",
   "metadata": {},
   "source": [
    "#### 1.4. Outliers và Data Quality"
   ]
  },
  {
   "cell_type": "markdown",
   "metadata": {},
   "source": [
    "Chuyển đổi dữ liệu của các cột, thêm các cột mới và loại bỏ các cột không cần thiết."
   ]
  },
  {
   "cell_type": "code",
   "execution_count": 8,
   "metadata": {},
   "outputs": [],
   "source": [
    "df['Salary_avg'] = df['Salary Range'].str.replace('[$K]', '', regex=True) \\\n",
    "                                    .str.split('-', expand=True) \\\n",
    "                                    .astype(float) \\\n",
    "                                    .mean(axis=1)"
   ]
  },
  {
   "cell_type": "code",
   "execution_count": 9,
   "metadata": {},
   "outputs": [],
   "source": [
    "df['Experience_avg'] = df['Experience'].str.replace(' Years', '') \\\n",
    "                                      .str.split(' to ', expand=True) \\\n",
    "                                      .astype(float) \\\n",
    "                                      .mean(axis=1)"
   ]
  },
  {
   "cell_type": "code",
   "execution_count": 10,
   "metadata": {},
   "outputs": [],
   "source": [
    "df['Job Posting Date'] = pd.to_datetime(df['Job Posting Date'])"
   ]
  },
  {
   "cell_type": "code",
   "execution_count": 11,
   "metadata": {},
   "outputs": [],
   "source": [
    "df['Day'] = df['Job Posting Date'].dt.day\n",
    "df['Month'] = df['Job Posting Date'].dt.month\n",
    "df['Year'] = df['Job Posting Date'].dt.year"
   ]
  },
  {
   "cell_type": "code",
   "execution_count": 12,
   "metadata": {},
   "outputs": [
    {
     "data": {
      "text/plain": [
       "Job Id                       int64\n",
       "Experience                  object\n",
       "Qualifications              object\n",
       "Salary Range                object\n",
       "location                    object\n",
       "Country                     object\n",
       "latitude                   float64\n",
       "longitude                  float64\n",
       "Work Type                   object\n",
       "Company Size                 int64\n",
       "Job Posting Date    datetime64[ns]\n",
       "Preference                  object\n",
       "Contact Person              object\n",
       "Contact                     object\n",
       "Job Title                   object\n",
       "Role                        object\n",
       "Job Portal                  object\n",
       "Job Description             object\n",
       "Benefits                    object\n",
       "skills                      object\n",
       "Responsibilities            object\n",
       "Company                     object\n",
       "Company Profile             object\n",
       "Salary_avg                 float64\n",
       "Experience_avg             float64\n",
       "Day                          int64\n",
       "Month                        int64\n",
       "Year                         int64\n",
       "dtype: object"
      ]
     },
     "execution_count": 12,
     "metadata": {},
     "output_type": "execute_result"
    }
   ],
   "source": [
    "df.dtypes"
   ]
  },
  {
   "cell_type": "markdown",
   "metadata": {},
   "source": [
    "Qua quan sát có 1 số cột dữ liệu không cần thiết trong quá trình phân tích như sau: `latitude`, `longitude`, `Experience`, `Salary Range`, `Company Profile`, `Contact Person` và `Contact`. Tuy nhiên nhóm vẫn sẽ giữ lại là lưu nó ở một dataframe khác để có thể sử dụng lại nếu cần thiết khi xây dựng mô hình."
   ]
  },
  {
   "cell_type": "code",
   "execution_count": 13,
   "metadata": {},
   "outputs": [],
   "source": [
    "df1 = df.drop(['Salary Range', 'Experience', 'latitude', 'longitude', 'Company Profile', 'Contact Person', 'Contact'], axis=1)"
   ]
  },
  {
   "cell_type": "code",
   "execution_count": 14,
   "metadata": {},
   "outputs": [],
   "source": [
    "df2 = df.drop(df1.columns, axis=1)"
   ]
  },
  {
   "cell_type": "markdown",
   "metadata": {},
   "source": [
    "##### 1.4.1. Các cột numerical"
   ]
  },
  {
   "cell_type": "code",
   "execution_count": 15,
   "metadata": {},
   "outputs": [
    {
     "data": {
      "text/plain": [
       "Index(['Job Id', 'Company Size', 'Salary_avg', 'Experience_avg', 'Day',\n",
       "       'Month', 'Year'],\n",
       "      dtype='object')"
      ]
     },
     "execution_count": 15,
     "metadata": {},
     "output_type": "execute_result"
    }
   ],
   "source": [
    "num_cols = df1.select_dtypes(include=['int64', 'float64']).columns\n",
    "num_cols"
   ]
  },
  {
   "cell_type": "code",
   "execution_count": 20,
   "metadata": {},
   "outputs": [
    {
     "data": {
      "image/png": "[encoded data removed]",
      "text/plain": [
       "<Figure size 1500x500 with 2 Axes>"
      ]
     },
     "metadata": {},
     "output_type": "display_data"
    }
   ],
   "source": [
    "fig, ax = plt.subplots(1, 2, figsize=(15, 5))\n",
    "\n",
    "sns.boxplot(df1['Salary_avg'], ax=ax[0])\n",
    "ax[0].set_title('Salary_avg')\n",
    "\n",
    "sns.boxplot(df1['Experience_avg'], ax=ax[1])\n",
    "ax[1].set_title('Experience_avg')\n",
    "\n",
    "plt.show();"
   ]
  },
  {
   "cell_type": "markdown",
   "metadata": {},
   "source": [
    "Các cột numerical không có outliers và có thể sử dụng trực tiếp trong quá trình phân tích."
   ]
  },
  {
   "cell_type": "markdown",
   "metadata": {},
   "source": [
    "**Câu lệnh bên dưới chỉ thực hiện một lần duy nhất trên máy một thành viên duy nhất. Sau khi thực hiện, tiến hành lưu trữ df thành file csv, các thành viên khác chỉ cần load file này vào là được, không cần chạy lại câu lệnh `to_csv` để tránh mất thời gian.**"
   ]
  },
  {
   "cell_type": "code",
   "execution_count": 25,
   "metadata": {},
   "outputs": [],
   "source": [
    "df1.to_csv('dataset/data_clean.csv', index=False)\n",
    "df2.to_csv('dataset/data_clean_other.csv', index=False)"
   ]
  }
 ],
 "metadata": {
  "kernelspec": {
   "display_name": "Python 3",
   "language": "python",
   "name": "python3"
  },
  "language_info": {
   "codemirror_mode": {
    "name": "ipython",
    "version": 3
   },
   "file_extension": ".py",
   "mimetype": "text/x-python",
   "name": "python",
   "nbconvert_exporter": "python",
   "pygments_lexer": "ipython3",
   "version": "3.10.9"
  }
 },
 "nbformat": 4,
 "nbformat_minor": 2
}
