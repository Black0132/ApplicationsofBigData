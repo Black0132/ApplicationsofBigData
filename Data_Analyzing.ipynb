{
 "cells": [
  {
   "cell_type": "markdown",
   "metadata": {},
   "source": [
    "# PROJECT\n",
    "## Applications of Big Data"
   ]
  },
  {
   "cell_type": "markdown",
   "metadata": {},
   "source": [
    "### 0. Importing libraries"
   ]
  },
  {
   "cell_type": "code",
   "execution_count": null,
   "metadata": {},
   "outputs": [],
   "source": [
    "import pandas as pd\n",
    "import matplotlib.pyplot as plt\n",
    "import seaborn as sns"
   ]
  },
  {
   "cell_type": "code",
   "execution_count": null,
   "metadata": {},
   "outputs": [],
   "source": [
    "df = pd.read_csv('dataset/data_clean.csv')\n",
    "df.shape"
   ]
  },
  {
   "cell_type": "markdown",
   "metadata": {},
   "source": [
    "#### 2.3. Mối quan hệ giữa các cột"
   ]
  },
  {
   "cell_type": "markdown",
   "metadata": {},
   "source": [
    "##### 2.3.1. Mối quan hệ giữa cột `Salary_avg` và các cột khác"
   ]
  },
  {
   "cell_type": "code",
   "execution_count": null,
   "metadata": {},
   "outputs": [],
   "source": [
    "fig, ax = plt.subplots(figsize=(10, 10), ncols=2, nrows=2)\n",
    "\n",
    "# Lương trung bình theo quy mô công ty\n",
    "ax[0, 0].scatter(df['Company Size'], df['Salary_avg'])\n",
    "ax[0, 0].set_title('Company Size vs. Salary_avg')\n",
    "ax[0, 0].set_xlabel('Company Size')\n",
    "ax[0, 0].set_ylabel('Average Salary')\n",
    "\n",
    "# Lương trung bình theo số năm kinh nghiệm\n",
    "ax[0, 1].scatter(df['Experience_avg'], df['Salary_avg'])\n",
    "ax[0, 1].set_title('Experience_avg vs. Salary_avg')\n",
    "ax[0, 1].set_xlabel('Experience_avg')\n",
    "ax[0, 1].set_ylabel('Average Salary')\n",
    "\n",
    "# Lương trung bình theo bằng cấp\n",
    "ax[1, 0].scatter(df['Qualifications'], df['Salary_avg'])\n",
    "ax[1, 0].set_title('Qualifications vs. Salary_avg')\n",
    "ax[1, 0].set_xlabel('Qualifications')\n",
    "ax[1, 0].set_ylabel('Average Salary')\n",
    "\n",
    "# Lương trung bình theo vai trò công việc\n",
    "# Job Title cũng tương tự như Role (qua kiểm tra thì độ tương quan giữa 2 cột này với Salary_avg là gần như tương đương)\n",
    "ax[1, 1].scatter(df['Role'], df['Salary_avg'])\n",
    "ax[1, 1].set_title('Role vs. Salary_avg')\n",
    "ax[1, 1].set_xlabel('Role')\n",
    "ax[1, 1].set_ylabel('Average Salary')\n",
    "\n",
    "plt.tight_layout()\n",
    "plt.show()"
   ]
  },
  {
   "cell_type": "markdown",
   "metadata": {},
   "source": [
    "Dựa vào đồ thị tương quan giữa cột `Salary_avg` và các cột khác như `Company Size`, `Experience_avg`, `Qualifications` và `Role`(`Job title`) thì ta có thể thấy được mối quan hệ giữa các cột này ở đây là rất yếu gần như không phụ thuộc nhau.\n",
    " \n",
    "Tuy nhiên, như ở `Company Size` thì quy mô của nó tất cả đều trên 12000 nên có thể vì vậy mà chúng không phụ thuộc vào nhau. Còn ở cột `Experience_avg` thì dựa theo dữ liệu thì ở cột kinh nghiệm đều bắt đầu từ 4 năm trở lên nên có thể vì vậy mà chúng không phụ thuộc vào nhau. Còn ở cột `Qualifications` thì dựa theo dữ liệu thì ở cột trình độ đều là *Thạc sĩ, cử nhân* nên có thể vì vậy mà chúng không phụ thuộc vào nhau. Còn ở cột `Role` thì dựa theo dữ liệu thì ở cột vai trò đều cơ bản đều là *Nhân viên* nên có thể vì vậy mà chúng không phụ thuộc vào nhau."
   ]
  },
  {
   "cell_type": "markdown",
   "metadata": {},
   "source": [
    "##### 2.3.2. Mối quan hệ giữa cột `Month`, `Year` và `Số lượng cộng việc`"
   ]
  },
  {
   "cell_type": "code",
   "execution_count": null,
   "metadata": {},
   "outputs": [],
   "source": [
    "job_counts_by_month_year = df.groupby(['Year', 'Month'])['Job Id'].count().reset_index()\n",
    "\n",
    "heatmap_data = job_counts_by_month_year.pivot_table(values='Job Id', index='Month', columns='Year', fill_value=0)\n",
    "\n",
    "plt.figure(figsize=(12, 6))\n",
    "sns.heatmap(heatmap_data, annot=True, cmap='Blues', fmt='g', linewidths=.5)\n",
    "plt.title('Number of Jobs by Month and Year')\n",
    "plt.xlabel('Year')\n",
    "plt.ylabel('Month')\n",
    "plt.show()"
   ]
  },
  {
   "cell_type": "markdown",
   "metadata": {},
   "source": [
    "Do dữ liệu chỉ có từ `15/09/2021` đến `15/09/2023` nên mấy tháng trước đó `09/2021` và sau tháng `09/2023` đều là 0 và tháng 9 của năm 2021 và năm 2023 thì chỉ có 15 ngày nên số lượng công việc của tháng 9 năm 2021 và năm 2023 khoảng gần bằng 1/2 số lượng công việc của các tháng khác. Nên cơ bản thì số lượng công việc của mỗi thàng là gần như như nhau. Tuy nhiên ở các tháng khoảng từ `tháng 5` đến `tháng 8` số lượng công việc có tăng lên so với các tháng khác có thể là do đây là thời gian nghỉ hè của sinh viên và thời gian tuyển dụng của các công ty lớn gần như là khoảng thời gian tuyển dụng nhiều nhất trong năm của các công ty."
   ]
  },
  {
   "cell_type": "markdown",
   "metadata": {},
   "source": [
    "##### 2.3.3. Mối quan hệ giữa cột `Country` và `Số lượng cộng việc`"
   ]
  },
  {
   "cell_type": "code",
   "execution_count": null,
   "metadata": {},
   "outputs": [],
   "source": [
    "fig, ax = plt.subplots(figsize=(22, 7), ncols=2, nrows=1)\n",
    "\n",
    "job_counts_by_country = df['Country'].value_counts().reset_index().head(10)\n",
    "job_counts_by_location = df['location'].value_counts().reset_index().head(10)\n",
    "\n",
    "sns.barplot(data=job_counts_by_country, x='index', y='Country', palette='winter', ax=ax[0])\n",
    "ax[0].set_title('Number of Jobs by Country')\n",
    "ax[0].set_xlabel('Country')\n",
    "ax[0].set_ylabel('Count')\n",
    "ax[0].tick_params(axis='x', rotation=45)\n",
    "\n",
    "sns.barplot(data=job_counts_by_location, x='index', y='location', palette='crest', ax=ax[1])\n",
    "ax[1].set_title('Number of Jobs by Location')\n",
    "ax[1].set_xlabel('Location')\n",
    "ax[1].set_ylabel('Count')\n",
    "ax[1].tick_params(axis='x', rotation=45)\n",
    "\n",
    "plt.show();"
   ]
  }
 ],
 "metadata": {
  "kernelspec": {
   "display_name": "Python 3",
   "language": "python",
   "name": "python3"
  },
  "language_info": {
   "codemirror_mode": {
    "name": "ipython",
    "version": 3
   },
   "file_extension": ".py",
   "mimetype": "text/x-python",
   "name": "python",
   "nbconvert_exporter": "python",
   "pygments_lexer": "ipython3",
   "version": "3.10.12"
  }
 },
 "nbformat": 4,
 "nbformat_minor": 2
}
