{
 "cells": [
  {
   "cell_type": "markdown",
   "metadata": {},
   "source": [
    "# PROJECT\n",
    "## Applications of Big Data"
   ]
  },
  {
   "cell_type": "markdown",
   "metadata": {},
   "source": [
    "### 0. Importing libraries"
   ]
  },
  {
   "cell_type": "code",
   "execution_count": null,
   "metadata": {},
   "outputs": [],
   "source": [
    "import pandas as pd\n",
    "import matplotlib.pyplot as plt"
   ]
  },
  {
   "cell_type": "code",
   "execution_count": null,
   "metadata": {},
   "outputs": [],
   "source": [
    "df = pd.read_csv('dataset/data_clean.csv')\n",
    "df.shape"
   ]
  },
  {
   "cell_type": "markdown",
   "metadata": {},
   "source": [
    "#### 2.3. Mối quan hệ giữa các cột"
   ]
  },
  {
   "cell_type": "markdown",
   "metadata": {},
   "source": [
    "##### 2.3.1. Mối quan hệ giữa cột `Salary_avg` và các cột khác"
   ]
  },
  {
   "cell_type": "code",
   "execution_count": null,
   "metadata": {},
   "outputs": [],
   "source": [
    "fig, ax = plt.subplots(figsize=(10, 10), ncols=2, nrows=2)\n",
    "\n",
    "# Lương trung bình theo quy mô công ty\n",
    "ax[0, 0].scatter(df['Company Size'], df['Salary_avg'])\n",
    "ax[0, 0].set_title('Company Size vs. Salary_avg')\n",
    "ax[0, 0].set_xlabel('Company Size')\n",
    "ax[0, 0].set_ylabel('Average Salary')\n",
    "\n",
    "# Lương trung bình theo số năm kinh nghiệm\n",
    "ax[0, 1].scatter(df['Experience_avg'], df['Salary_avg'])\n",
    "ax[0, 1].set_title('Experience_avg vs. Salary_avg')\n",
    "ax[0, 1].set_xlabel('Experience_avg')\n",
    "ax[0, 1].set_ylabel('Average Salary')\n",
    "\n",
    "# Lương trung bình theo bằng cấp\n",
    "ax[1, 0].scatter(df['Qualifications'], df['Salary_avg'])\n",
    "ax[1, 0].set_title('Qualifications vs. Salary_avg')\n",
    "ax[1, 0].set_xlabel('Qualifications')\n",
    "ax[1, 0].set_ylabel('Average Salary')\n",
    "\n",
    "# Lương trung bình theo vai trò công việc\n",
    "# Job Title cũng tương tự như Role (qua kiểm tra thì độ tương quan giữa 2 cột này với Salary_avg là gần như tương đương)\n",
    "ax[1, 1].scatter(df['Role'], df['Salary_avg'])\n",
    "ax[1, 1].set_title('Role vs. Salary_avg')\n",
    "ax[1, 1].set_xlabel('Role')\n",
    "ax[1, 1].set_ylabel('Average Salary')\n",
    "\n",
    "plt.tight_layout()\n",
    "plt.show()"
   ]
  },
  {
   "cell_type": "markdown",
   "metadata": {},
   "source": [
    "Dựa vào đồ thị tương quan giữa cột `Salary_avg` và các cột khác như `Company Size`, `Experience_avg`, `Qualifications` và `Role`(`Job title`) thì ta có thể thấy được mối quan hệ giữa các cột này ở đây là rất yếu gần như không phụ thuộc nhau.\n",
    " \n",
    "Tuy nhiên, như ở `Company Size` thì quy mô của nó tất cả đều trên 12000 nên có thể vì vậy mà chúng không phụ thuộc vào nhau. Còn ở cột `Experience_avg` thì dựa theo dữ liệu thì ở cột kinh nghiệm đều bắt đầu từ 4 năm trở lên nên có thể vì vậy mà chúng không phụ thuộc vào nhau. Còn ở cột `Qualifications` thì dựa theo dữ liệu thì ở cột trình độ đều là *Thạc sĩ, cử nhân* nên có thể vì vậy mà chúng không phụ thuộc vào nhau. Còn ở cột `Role` thì dựa theo dữ liệu thì ở cột vai trò đều cơ bản đều là *Nhân viên* nên có thể vì vậy mà chúng không phụ thuộc vào nhau."
   ]
  }
 ],
 "metadata": {
  "kernelspec": {
   "display_name": "Python 3",
   "language": "python",
   "name": "python3"
  },
  "language_info": {
   "codemirror_mode": {
    "name": "ipython",
    "version": 3
   },
   "file_extension": ".py",
   "mimetype": "text/x-python",
   "name": "python",
   "nbconvert_exporter": "python",
   "pygments_lexer": "ipython3",
   "version": "3.10.12"
  }
 },
 "nbformat": 4,
 "nbformat_minor": 2
}
