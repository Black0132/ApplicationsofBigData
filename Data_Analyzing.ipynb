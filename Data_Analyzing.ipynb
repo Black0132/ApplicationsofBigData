{
 "cells": [
  {
   "cell_type": "markdown",
   "metadata": {},
   "source": [
    "# PROJECT\n",
    "## Applications of Big Data"
   ]
  },
  {
   "cell_type": "markdown",
   "metadata": {},
   "source": [
    "### 0. Importing libraries"
   ]
  },
  {
   "cell_type": "code",
   "execution_count": null,
   "metadata": {},
   "outputs": [],
   "source": [
    "import pandas as pd\n",
    "import matplotlib.pyplot as plt"
   ]
  },
  {
   "cell_type": "code",
   "execution_count": null,
   "metadata": {},
   "outputs": [],
   "source": [
    "df = pd.read_csv('dataset/data_clean.csv')\n",
    "df.shape"
   ]
  },
  {
   "cell_type": "markdown",
   "metadata": {},
   "source": [
    "#### 2.3. Mối quan hệ giữa các cột"
   ]
  },
  {
   "cell_type": "markdown",
   "metadata": {},
   "source": [
    "##### 2.3.1. Mối quan hệ giữa cột `Salary_avg` và các cột khác"
   ]
  },
  {
   "cell_type": "code",
   "execution_count": null,
   "metadata": {},
   "outputs": [],
   "source": [
    "fig, ax = plt.subplots(figsize=(10, 10), ncols=2, nrows=2)\n",
    "\n",
    "# Lương trung bình theo quy mô công ty\n",
    "ax[0, 0].scatter(df['Company Size'], df['Salary_avg'])\n",
    "ax[0, 0].set_title('Company Size vs. Salary_avg')\n",
    "ax[0, 0].set_xlabel('Company Size')\n",
    "ax[0, 0].set_ylabel('Average Salary')\n",
    "\n",
    "# Lương trung bình theo số năm kinh nghiệm\n",
    "ax[0, 1].scatter(df['Experience_avg'], df['Salary_avg'])\n",
    "ax[0, 1].set_title('Experience_avg vs. Salary_avg')\n",
    "ax[0, 1].set_xlabel('Experience_avg')\n",
    "ax[0, 1].set_ylabel('Average Salary')\n",
    "\n",
    "# Lương trung bình theo bằng cấp\n",
    "ax[1, 0].scatter(df['Qualifications'], df['Salary_avg'])\n",
    "ax[1, 0].set_title('Qualifications vs. Salary_avg')\n",
    "ax[1, 0].set_xlabel('Qualifications')\n",
    "ax[1, 0].set_ylabel('Average Salary')\n",
    "\n",
    "# Lương trung bình theo vai trò công việc\n",
    "# Job Title cũng tương tự như Role (qua kiểm tra thì độ tương quan giữa 2 cột này với Salary_avg là gần như tương đương)\n",
    "ax[1, 1].scatter(df['Role'], df['Salary_avg'])\n",
    "ax[1, 1].set_title('Role vs. Salary_avg')\n",
    "ax[1, 1].set_xlabel('Role')\n",
    "ax[1, 1].set_ylabel('Average Salary')\n",
    "\n",
    "plt.tight_layout()\n",
    "plt.show()"
   ]
  }
 ],
 "metadata": {
  "kernelspec": {
   "display_name": "Python 3",
   "language": "python",
   "name": "python3"
  },
  "language_info": {
   "codemirror_mode": {
    "name": "ipython",
    "version": 3
   },
   "file_extension": ".py",
   "mimetype": "text/x-python",
   "name": "python",
   "nbconvert_exporter": "python",
   "pygments_lexer": "ipython3",
   "version": "3.10.12"
  }
 },
 "nbformat": 4,
 "nbformat_minor": 2
}
