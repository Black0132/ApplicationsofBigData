{
 "cells": [
  {
   "cell_type": "markdown",
   "metadata": {},
   "source": [
    "# PROJECT\n",
    "## Applications of Big Data"
   ]
  },
  {
   "cell_type": "markdown",
   "metadata": {},
   "source": [
    "### 0. Importing libraries"
   ]
  },
  {
   "cell_type": "code",
   "execution_count": null,
   "metadata": {},
   "outputs": [],
   "source": [
    "import pandas as pd\n",
    "import numpy as np\n",
    "import matplotlib.pyplot as plt\n",
    "import seaborn as sns\n",
    "import matplotlib.gridspec as gridspec"
   ]
  },
  {
   "cell_type": "markdown",
   "metadata": {},
   "source": [
    "### 2. Data Understanding"
   ]
  },
  {
   "cell_type": "markdown",
   "metadata": {},
   "source": [
    "#### 2.1. Tổng quan kích thước và kiểu dữ liệu trong từng cột"
   ]
  },
  {
   "cell_type": "code",
   "execution_count": null,
   "metadata": {},
   "outputs": [
    {
     "data": {
      "text/html": [
       "<div>\n",
       "<style scoped>\n",
       "    .dataframe tbody tr th:only-of-type {\n",
       "        vertical-align: middle;\n",
       "    }\n",
       "\n",
       "    .dataframe tbody tr th {\n",
       "        vertical-align: top;\n",
       "    }\n",
       "\n",
       "    .dataframe thead th {\n",
       "        text-align: right;\n",
       "    }\n",
       "</style>\n",
       "<table border=\"1\" class=\"dataframe\">\n",
       "  <thead>\n",
       "    <tr style=\"text-align: right;\">\n",
       "      <th></th>\n",
       "      <th>Job Id</th>\n",
       "      <th>Qualifications</th>\n",
       "      <th>location</th>\n",
       "      <th>Country</th>\n",
       "      <th>Work Type</th>\n",
       "      <th>Company Size</th>\n",
       "      <th>Job Posting Date</th>\n",
       "      <th>Preference</th>\n",
       "      <th>Job Title</th>\n",
       "      <th>Role</th>\n",
       "      <th>...</th>\n",
       "      <th>Job Description</th>\n",
       "      <th>Benefits</th>\n",
       "      <th>skills</th>\n",
       "      <th>Responsibilities</th>\n",
       "      <th>Company</th>\n",
       "      <th>Salary_avg</th>\n",
       "      <th>Experience_avg</th>\n",
       "      <th>Day</th>\n",
       "      <th>Month</th>\n",
       "      <th>Year</th>\n",
       "    </tr>\n",
       "  </thead>\n",
       "  <tbody>\n",
       "    <tr>\n",
       "      <th>0</th>\n",
       "      <td>1089843540111562</td>\n",
       "      <td>M.Tech</td>\n",
       "      <td>Douglas</td>\n",
       "      <td>Isle of Man</td>\n",
       "      <td>Intern</td>\n",
       "      <td>26801</td>\n",
       "      <td>2022-04-24</td>\n",
       "      <td>Female</td>\n",
       "      <td>Digital Marketing Specialist</td>\n",
       "      <td>Social Media Manager</td>\n",
       "      <td>...</td>\n",
       "      <td>Social Media Managers oversee an organizations...</td>\n",
       "      <td>{'Flexible Spending Accounts (FSAs), Relocatio...</td>\n",
       "      <td>Social media platforms (e.g., Facebook, Twitte...</td>\n",
       "      <td>Manage and grow social media accounts, create ...</td>\n",
       "      <td>Icahn Enterprises</td>\n",
       "      <td>79.0</td>\n",
       "      <td>10.0</td>\n",
       "      <td>24</td>\n",
       "      <td>4</td>\n",
       "      <td>2022</td>\n",
       "    </tr>\n",
       "    <tr>\n",
       "      <th>1</th>\n",
       "      <td>398454096642776</td>\n",
       "      <td>BCA</td>\n",
       "      <td>Ashgabat</td>\n",
       "      <td>Turkmenistan</td>\n",
       "      <td>Intern</td>\n",
       "      <td>100340</td>\n",
       "      <td>2022-12-19</td>\n",
       "      <td>Female</td>\n",
       "      <td>Web Developer</td>\n",
       "      <td>Frontend Web Developer</td>\n",
       "      <td>...</td>\n",
       "      <td>Frontend Web Developers design and implement u...</td>\n",
       "      <td>{'Health Insurance, Retirement Plans, Paid Tim...</td>\n",
       "      <td>HTML, CSS, JavaScript Frontend frameworks (e.g...</td>\n",
       "      <td>Design and code user interfaces for websites, ...</td>\n",
       "      <td>PNC Financial Services Group</td>\n",
       "      <td>86.0</td>\n",
       "      <td>7.0</td>\n",
       "      <td>19</td>\n",
       "      <td>12</td>\n",
       "      <td>2022</td>\n",
       "    </tr>\n",
       "    <tr>\n",
       "      <th>2</th>\n",
       "      <td>481640072963533</td>\n",
       "      <td>PhD</td>\n",
       "      <td>Macao</td>\n",
       "      <td>Macao SAR, China</td>\n",
       "      <td>Temporary</td>\n",
       "      <td>84525</td>\n",
       "      <td>2022-09-14</td>\n",
       "      <td>Male</td>\n",
       "      <td>Operations Manager</td>\n",
       "      <td>Quality Control Manager</td>\n",
       "      <td>...</td>\n",
       "      <td>Quality Control Managers establish and enforce...</td>\n",
       "      <td>{'Legal Assistance, Bonuses and Incentive Prog...</td>\n",
       "      <td>Quality control processes and methodologies St...</td>\n",
       "      <td>Establish and enforce quality control standard...</td>\n",
       "      <td>United Services Automobile Assn.</td>\n",
       "      <td>82.5</td>\n",
       "      <td>6.0</td>\n",
       "      <td>14</td>\n",
       "      <td>9</td>\n",
       "      <td>2022</td>\n",
       "    </tr>\n",
       "    <tr>\n",
       "      <th>3</th>\n",
       "      <td>688192671473044</td>\n",
       "      <td>PhD</td>\n",
       "      <td>Porto-Novo</td>\n",
       "      <td>Benin</td>\n",
       "      <td>Full-Time</td>\n",
       "      <td>129896</td>\n",
       "      <td>2023-02-25</td>\n",
       "      <td>Female</td>\n",
       "      <td>Network Engineer</td>\n",
       "      <td>Wireless Network Engineer</td>\n",
       "      <td>...</td>\n",
       "      <td>Wireless Network Engineers design, implement, ...</td>\n",
       "      <td>{'Transportation Benefits, Professional Develo...</td>\n",
       "      <td>Wireless network design and architecture Wi-Fi...</td>\n",
       "      <td>Design, configure, and optimize wireless netwo...</td>\n",
       "      <td>Hess</td>\n",
       "      <td>78.0</td>\n",
       "      <td>7.5</td>\n",
       "      <td>25</td>\n",
       "      <td>2</td>\n",
       "      <td>2023</td>\n",
       "    </tr>\n",
       "    <tr>\n",
       "      <th>4</th>\n",
       "      <td>117057806156508</td>\n",
       "      <td>MBA</td>\n",
       "      <td>Santiago</td>\n",
       "      <td>Chile</td>\n",
       "      <td>Intern</td>\n",
       "      <td>53944</td>\n",
       "      <td>2022-10-11</td>\n",
       "      <td>Female</td>\n",
       "      <td>Event Manager</td>\n",
       "      <td>Conference Manager</td>\n",
       "      <td>...</td>\n",
       "      <td>A Conference Manager coordinates and manages c...</td>\n",
       "      <td>{'Flexible Spending Accounts (FSAs), Relocatio...</td>\n",
       "      <td>Event planning Conference logistics Budget man...</td>\n",
       "      <td>Specialize in conference and convention planni...</td>\n",
       "      <td>Cairn Energy</td>\n",
       "      <td>75.5</td>\n",
       "      <td>6.5</td>\n",
       "      <td>11</td>\n",
       "      <td>10</td>\n",
       "      <td>2022</td>\n",
       "    </tr>\n",
       "  </tbody>\n",
       "</table>\n",
       "<p>5 rows × 21 columns</p>\n",
       "</div>"
      ],
      "text/plain": [
       "             Job Id Qualifications    location           Country  Work Type  \\\n",
       "0  1089843540111562         M.Tech     Douglas       Isle of Man     Intern   \n",
       "1   398454096642776            BCA    Ashgabat      Turkmenistan     Intern   \n",
       "2   481640072963533            PhD       Macao  Macao SAR, China  Temporary   \n",
       "3   688192671473044            PhD  Porto-Novo             Benin  Full-Time   \n",
       "4   117057806156508            MBA    Santiago             Chile     Intern   \n",
       "\n",
       "   Company Size Job Posting Date Preference                     Job Title  \\\n",
       "0         26801       2022-04-24     Female  Digital Marketing Specialist   \n",
       "1        100340       2022-12-19     Female                 Web Developer   \n",
       "2         84525       2022-09-14       Male            Operations Manager   \n",
       "3        129896       2023-02-25     Female              Network Engineer   \n",
       "4         53944       2022-10-11     Female                 Event Manager   \n",
       "\n",
       "                        Role  ...  \\\n",
       "0       Social Media Manager  ...   \n",
       "1     Frontend Web Developer  ...   \n",
       "2    Quality Control Manager  ...   \n",
       "3  Wireless Network Engineer  ...   \n",
       "4         Conference Manager  ...   \n",
       "\n",
       "                                     Job Description  \\\n",
       "0  Social Media Managers oversee an organizations...   \n",
       "1  Frontend Web Developers design and implement u...   \n",
       "2  Quality Control Managers establish and enforce...   \n",
       "3  Wireless Network Engineers design, implement, ...   \n",
       "4  A Conference Manager coordinates and manages c...   \n",
       "\n",
       "                                            Benefits  \\\n",
       "0  {'Flexible Spending Accounts (FSAs), Relocatio...   \n",
       "1  {'Health Insurance, Retirement Plans, Paid Tim...   \n",
       "2  {'Legal Assistance, Bonuses and Incentive Prog...   \n",
       "3  {'Transportation Benefits, Professional Develo...   \n",
       "4  {'Flexible Spending Accounts (FSAs), Relocatio...   \n",
       "\n",
       "                                              skills  \\\n",
       "0  Social media platforms (e.g., Facebook, Twitte...   \n",
       "1  HTML, CSS, JavaScript Frontend frameworks (e.g...   \n",
       "2  Quality control processes and methodologies St...   \n",
       "3  Wireless network design and architecture Wi-Fi...   \n",
       "4  Event planning Conference logistics Budget man...   \n",
       "\n",
       "                                    Responsibilities  \\\n",
       "0  Manage and grow social media accounts, create ...   \n",
       "1  Design and code user interfaces for websites, ...   \n",
       "2  Establish and enforce quality control standard...   \n",
       "3  Design, configure, and optimize wireless netwo...   \n",
       "4  Specialize in conference and convention planni...   \n",
       "\n",
       "                            Company Salary_avg  Experience_avg  Day  Month  \\\n",
       "0                 Icahn Enterprises       79.0            10.0   24      4   \n",
       "1      PNC Financial Services Group       86.0             7.0   19     12   \n",
       "2  United Services Automobile Assn.       82.5             6.0   14      9   \n",
       "3                              Hess       78.0             7.5   25      2   \n",
       "4                      Cairn Energy       75.5             6.5   11     10   \n",
       "\n",
       "   Year  \n",
       "0  2022  \n",
       "1  2022  \n",
       "2  2022  \n",
       "3  2023  \n",
       "4  2022  \n",
       "\n",
       "[5 rows x 21 columns]"
      ]
     },
     "metadata": {},
     "output_type": "display_data"
    }
   ],
   "source": [
    "df = pd.read_csv('dataset/data_clean.csv')\n",
    "df.head()"
   ]
  },
  {
   "cell_type": "code",
   "execution_count": null,
   "metadata": {},
   "outputs": [
    {
     "data": {
      "text/plain": [
       "(1615940, 21)"
      ]
     },
     "metadata": {},
     "output_type": "display_data"
    }
   ],
   "source": [
    "df.shape"
   ]
  },
  {
   "cell_type": "markdown",
   "metadata": {},
   "source": [
    "Dữ liệu có 1,615,940 dòng và 23 cột. Và dữ liệu được thu thập từ ngày `15/09/2021` đến ngày `15/09/2023`.\n",
    "\n",
    "Ý nghĩa của một số cột như sau (Tương tự như ở phần `Data Processing`):\n",
    "\n",
    "- Qualifications: Trình độ học vấn\n",
    "- Experience_avg: Kinh nghiệm\n",
    "- Salary_avg_: Mức lương\n",
    "- Job Postinging Date: Ngày đăng tuyển dụng\n",
    "- Company Size: Quy mô công ty\n",
    "- Role: Vị trí công việc\n",
    "\n",
    "Ngoài ra còn có các cột khác như: Job Title, Country, location, Contact Person, Contact, Company Profile, Industry,... được mô tả ở `Data_description.txt`. "
   ]
  },
  {
   "cell_type": "code",
   "execution_count": null,
   "metadata": {},
   "outputs": [
    {
     "name": "stdout",
     "output_type": "stream",
     "text": [
      "<class 'pandas.core.frame.DataFrame'>\n",
      "RangeIndex: 1615940 entries, 0 to 1615939\n",
      "Data columns (total 21 columns):\n",
      " #   Column            Non-Null Count    Dtype  \n",
      "---  ------            --------------    -----  \n",
      " 0   Job Id            1615940 non-null  int64  \n",
      " 1   Qualifications    1615940 non-null  object \n",
      " 2   location          1615940 non-null  object \n",
      " 3   Country           1615940 non-null  object \n",
      " 4   Work Type         1615940 non-null  object \n",
      " 5   Company Size      1615940 non-null  int64  \n",
      " 6   Job Posting Date  1615940 non-null  object \n",
      " 7   Preference        1615940 non-null  object \n",
      " 8   Job Title         1615940 non-null  object \n",
      " 9   Role              1615940 non-null  object \n",
      " 10  Job Portal        1615940 non-null  object \n",
      " 11  Job Description   1615940 non-null  object \n",
      " 12  Benefits          1615940 non-null  object \n",
      " 13  skills            1615940 non-null  object \n",
      " 14  Responsibilities  1615940 non-null  object \n",
      " 15  Company           1615940 non-null  object \n",
      " 16  Salary_avg        1615940 non-null  float64\n",
      " 17  Experience_avg    1615940 non-null  float64\n",
      " 18  Day               1615940 non-null  int64  \n",
      " 19  Month             1615940 non-null  int64  \n",
      " 20  Year              1615940 non-null  int64  \n",
      "dtypes: float64(2), int64(5), object(14)\n",
      "memory usage: 258.9+ MB\n",
      "None\n"
     ]
    }
   ],
   "source": [
    "print(df.info());"
   ]
  },
  {
   "cell_type": "markdown",
   "metadata": {},
   "source": [
    "Dữ liệu của các cột:\n",
    "\n",
    "- Job ID, Experience_avg, Salary_avg, Company Size: là kiểu numerical.\n",
    "- Cột Job Posting Date: là kiểu datetime và các cột Day, Month, Year là kiểu numerical được trích từ cột Job Posting Date.\n",
    "- Còn lại là kiểu categorical.\n"
   ]
  },
  {
   "cell_type": "code",
   "execution_count": null,
   "metadata": {},
   "outputs": [
    {
     "data": {
      "text/plain": [
       "2022    806158\n",
       "2023    570838\n",
       "2021    238944\n",
       "Name: Year, dtype: int64"
      ]
     },
     "metadata": {},
     "output_type": "display_data"
    }
   ],
   "source": [
    "df['Year'].value_counts()"
   ]
  },
  {
   "cell_type": "markdown",
   "metadata": {},
   "source": [
    "Qua đó ta thấy dữ liệu được thu thập trong 3 năm từ 2021 đến 2023."
   ]
  },
  {
   "cell_type": "code",
   "execution_count": null,
   "metadata": {},
   "outputs": [
    {
     "data": {
      "text/html": [
       "<div>\n",
       "<style scoped>\n",
       "    .dataframe tbody tr th:only-of-type {\n",
       "        vertical-align: middle;\n",
       "    }\n",
       "\n",
       "    .dataframe tbody tr th {\n",
       "        vertical-align: top;\n",
       "    }\n",
       "\n",
       "    .dataframe thead th {\n",
       "        text-align: right;\n",
       "    }\n",
       "</style>\n",
       "<table border=\"1\" class=\"dataframe\">\n",
       "  <thead>\n",
       "    <tr style=\"text-align: right;\">\n",
       "      <th></th>\n",
       "      <th>0</th>\n",
       "    </tr>\n",
       "  </thead>\n",
       "  <tbody>\n",
       "    <tr>\n",
       "      <th>58</th>\n",
       "      <td>Afghanistan</td>\n",
       "    </tr>\n",
       "    <tr>\n",
       "      <th>210</th>\n",
       "      <td>Albania</td>\n",
       "    </tr>\n",
       "    <tr>\n",
       "      <th>205</th>\n",
       "      <td>Algeria</td>\n",
       "    </tr>\n",
       "    <tr>\n",
       "      <th>131</th>\n",
       "      <td>American Samoa</td>\n",
       "    </tr>\n",
       "    <tr>\n",
       "      <th>158</th>\n",
       "      <td>Andorra</td>\n",
       "    </tr>\n",
       "    <tr>\n",
       "      <th>...</th>\n",
       "      <td>...</td>\n",
       "    </tr>\n",
       "    <tr>\n",
       "      <th>38</th>\n",
       "      <td>Virgin Islands (U.S.)</td>\n",
       "    </tr>\n",
       "    <tr>\n",
       "      <th>34</th>\n",
       "      <td>West Bank and Gaza</td>\n",
       "    </tr>\n",
       "    <tr>\n",
       "      <th>15</th>\n",
       "      <td>Yemen</td>\n",
       "    </tr>\n",
       "    <tr>\n",
       "      <th>100</th>\n",
       "      <td>Zambia</td>\n",
       "    </tr>\n",
       "    <tr>\n",
       "      <th>157</th>\n",
       "      <td>Zimbabwe</td>\n",
       "    </tr>\n",
       "  </tbody>\n",
       "</table>\n",
       "<p>216 rows × 1 columns</p>\n",
       "</div>"
      ],
      "text/plain": [
       "                         0\n",
       "58             Afghanistan\n",
       "210                Albania\n",
       "205                Algeria\n",
       "131         American Samoa\n",
       "158                Andorra\n",
       "..                     ...\n",
       "38   Virgin Islands (U.S.)\n",
       "34      West Bank and Gaza\n",
       "15                   Yemen\n",
       "100                 Zambia\n",
       "157               Zimbabwe\n",
       "\n",
       "[216 rows x 1 columns]"
      ]
     },
     "metadata": {},
     "output_type": "display_data"
    }
   ],
   "source": [
    "df1 = df['Country'].unique()\n",
    "df1 = pd.DataFrame(df1)\n",
    "df1.sort_values(by=0, inplace=True)\n",
    "df1"
   ]
  },
  {
   "cell_type": "markdown",
   "metadata": {},
   "source": [
    "Ở đây ta thấy có 216 quốc gia và khi nhóm tìm hiểu thì tính tới 2023 theo LHQ thì trên thới giới chỉ có 204 nước và lãnh thổ(`sputniknews.vn`). Tuy nhiên qua kiểm tra thì không có quốc gia nào trùng nhau và có một số quốc gia có quốc kỳ tuy nhiên vẫn thuộc một quốc gia khác. Ví dụ `Virgin Islands (U.S.)`, `Bahamas`,... đều thuộc Hoa Kỳ nên ở đây nhóm sẽ giữ nguyên. Vì ở đây có thể là do đã tính luôn cả các vùng, các quốc gia tự trị hoặc lãnh thổ đặc biệt là các `quốc gia` riêng biệt."
   ]
  },
  {
   "cell_type": "code",
   "execution_count": null,
   "metadata": {},
   "outputs": [
    {
     "data": {
      "text/plain": [
       "Malta            7723\n",
       "Venezuela, RB    7694\n",
       "Somalia          7689\n",
       "Sierra Leone     7656\n",
       "Vietnam          7649\n",
       "                 ... \n",
       "Ghana            7312\n",
       "Ukraine          7307\n",
       "Iceland          7292\n",
       "Uganda           7290\n",
       "Lithuania        7273\n",
       "Name: Country, Length: 216, dtype: int64"
      ]
     },
     "metadata": {},
     "output_type": "display_data"
    }
   ],
   "source": [
    "df['Country'].value_counts()"
   ]
  },
  {
   "cell_type": "markdown",
   "metadata": {},
   "source": [
    "Qua dữ liệu thì nhu cầu tuyển dụng của các quốc gia trên thế giới trong 3 năm 2021-2023 đều vượt qua 7200 công việc, trong đó `Việt Nam` nằm  trong top 5 quốc gia có như cầu tuyển dụng cao nhất thế giới. do đó ta có thể thấy nhu cầu tuyển dụng của `Việt Nam` là rất cao."
   ]
  },
  {
   "cell_type": "code",
   "execution_count": null,
   "metadata": {},
   "outputs": [
    {
     "data": {
      "text/plain": [
       "location    214\n",
       "Country     216\n",
       "dtype: int64"
      ]
     },
     "metadata": {},
     "output_type": "display_data"
    }
   ],
   "source": [
    "df[['location', 'Country']].nunique()"
   ]
  },
  {
   "cell_type": "markdown",
   "metadata": {},
   "source": [
    "Sau khi tìm hiểu thì theo dữ leieuj `Seoul` thì nó nằm ở `Korea, Rep.` và `North Korea` và `Apia` là thủ đô cũng như thành phố lớn nhất tại `Samoa` nhưng theo dữ liệu thì nó thêm cả `American Samoa`. Vì vậy nhóm sẽ giữ nguyên."
   ]
  }
 ],
 "metadata": {
  "language_info": {
   "name": "python"
  }
 },
 "nbformat": 4,
 "nbformat_minor": 2
}
